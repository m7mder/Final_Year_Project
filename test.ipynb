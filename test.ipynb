{
 "cells": [
  {
   "cell_type": "code",
   "execution_count": 48,
   "metadata": {},
   "outputs": [],
   "source": [
    "import obd\n",
    "\n"
   ]
  },
  {
   "cell_type": "code",
   "execution_count": 115,
   "metadata": {},
   "outputs": [
    {
     "name": "stdout",
     "output_type": "stream",
     "text": [
      "✅ Connected to OBD-II device successfully!\n"
     ]
    }
   ],
   "source": [
    "conn=obd.OBD(portstr=\"socket://192.168.0.10:35000\",baudrate=38400,timeout=1)\n",
    "if conn.is_connected():\n",
    "    print(\"✅ Connected to OBD-II device successfully!\")"
   ]
  },
  {
   "cell_type": "code",
   "execution_count": 9,
   "metadata": {},
   "outputs": [
    {
     "ename": "AttributeError",
     "evalue": "module 'obd' has no attribute 'scan'",
     "output_type": "error",
     "traceback": [
      "\u001b[1;31m---------------------------------------------------------------------------\u001b[0m",
      "\u001b[1;31mAttributeError\u001b[0m                            Traceback (most recent call last)",
      "\u001b[1;32m~\\AppData\\Local\\Temp\\ipykernel_18164\\2773593888.py\u001b[0m in \u001b[0;36m<cell line: 0>\u001b[1;34m()\u001b[0m\n\u001b[1;32m----> 1\u001b[1;33m \u001b[0mobd\u001b[0m\u001b[1;33m.\u001b[0m\u001b[0mscan\u001b[0m\u001b[1;33m(\u001b[0m\u001b[1;33m)\u001b[0m\u001b[1;33m\u001b[0m\u001b[1;33m\u001b[0m\u001b[0m\n\u001b[0m",
      "\u001b[1;31mAttributeError\u001b[0m: module 'obd' has no attribute 'scan'"
     ]
    }
   ],
   "source": [
    "obd.scan()"
   ]
  },
  {
   "cell_type": "code",
   "execution_count": 51,
   "metadata": {},
   "outputs": [
    {
     "name": "stdout",
     "output_type": "stream",
     "text": [
      "706.25 revolutions_per_minute\n"
     ]
    }
   ],
   "source": [
    "RPM=conn.query(obd.commands.RPM)\n",
    "print(RPM.value)"
   ]
  },
  {
   "cell_type": "code",
   "execution_count": 61,
   "metadata": {},
   "outputs": [
    {
     "data": {
      "text/html": [
       "15.686274509803921 percent"
      ],
      "text/latex": [
       "$15.686274509803921\\ \\mathrm{percent}$"
      ],
      "text/plain": [
       "15.686274509803921 <Unit('percent')>"
      ]
     },
     "execution_count": 61,
     "metadata": {},
     "output_type": "execute_result"
    }
   ],
   "source": [
    "throttle_pos=conn.query(obd.commands.THROTTLE_POS)\n",
    "throttle_pos.value"
   ]
  },
  {
   "cell_type": "code",
   "execution_count": 62,
   "metadata": {},
   "outputs": [
    {
     "data": {
      "text/html": [
       "0.0 kilometer_per_hour"
      ],
      "text/latex": [
       "$0.0\\ \\mathrm{kilometer\\_per\\_hour}$"
      ],
      "text/plain": [
       "0.0 <Unit('kilometer_per_hour')>"
      ]
     },
     "execution_count": 62,
     "metadata": {},
     "output_type": "execute_result"
    }
   ],
   "source": [
    "Speed=conn.query(obd.commands.SPEED)\n",
    "Speed.value"
   ]
  },
  {
   "cell_type": "code",
   "execution_count": null,
   "metadata": {},
   "outputs": [
    {
     "data": {
      "text/html": [
       "87 degree_Celsius"
      ],
      "text/latex": [
       "$87\\ \\mathrm{degree\\_Celsius}$"
      ],
      "text/plain": [
       "87 <Unit('degree_Celsius')>"
      ]
     },
     "execution_count": 64,
     "metadata": {},
     "output_type": "execute_result"
    }
   ],
   "source": [
    "coolant_temp=conn.query(obd.commands.COOLANT_TEMP)\n",
    "coolant_temp.value"
   ]
  },
  {
   "cell_type": "code",
   "execution_count": null,
   "metadata": {},
   "outputs": [
    {
     "name": "stdout",
     "output_type": "stream",
     "text": [
      "103 kilopascal\n"
     ]
    }
   ],
   "source": [
    "bar_pressure=conn.query(obd.commands.BAROMETRIC_PRESSURE)\n",
    "print(bar_pressure.value)"
   ]
  },
  {
   "cell_type": "code",
   "execution_count": 78,
   "metadata": {},
   "outputs": [
    {
     "name": "stdout",
     "output_type": "stream",
     "text": [
      "12.8 volt\n"
     ]
    }
   ],
   "source": [
    "vol=conn.query(obd.commands.ELM_VOLTAGE)\n",
    "print(vol.value)"
   ]
  },
  {
   "cell_type": "code",
   "execution_count": 79,
   "metadata": {},
   "outputs": [
    {
     "name": "stdout",
     "output_type": "stream",
     "text": [
      "<obd.OBDResponse.Status object at 0x00000208C1D96B10>\n"
     ]
    }
   ],
   "source": [
    "v2=conn.query(obd.commands.STATUS)\n",
    "print(v2.value)"
   ]
  },
  {
   "cell_type": "code",
   "execution_count": 91,
   "metadata": {},
   "outputs": [
    {
     "name": "stdout",
     "output_type": "stream",
     "text": [
      "MIL False\n",
      "DTC_count 0\n",
      "ignition_type spark\n",
      "MISFIRE_MONITORING {'name': 'MISFIRE_MONITORING', 'available': False, 'complete': True}\n",
      "FUEL_SYSTEM_MONITORING {'name': 'FUEL_SYSTEM_MONITORING', 'available': False, 'complete': True}\n",
      "COMPONENT_MONITORING {'name': 'COMPONENT_MONITORING', 'available': True, 'complete': True}\n",
      "CATALYST_MONITORING {'name': 'CATALYST_MONITORING', 'available': False, 'complete': True}\n",
      "HEATED_CATALYST_MONITORING {'name': 'HEATED_CATALYST_MONITORING', 'available': False, 'complete': True}\n",
      "EVAPORATIVE_SYSTEM_MONITORING {'name': 'EVAPORATIVE_SYSTEM_MONITORING', 'available': False, 'complete': True}\n",
      "SECONDARY_AIR_SYSTEM_MONITORING {'name': 'SECONDARY_AIR_SYSTEM_MONITORING', 'available': False, 'complete': True}\n",
      "OXYGEN_SENSOR_MONITORING {'name': 'OXYGEN_SENSOR_MONITORING', 'available': False, 'complete': True}\n",
      "OXYGEN_SENSOR_HEATER_MONITORING {'name': 'OXYGEN_SENSOR_HEATER_MONITORING', 'available': False, 'complete': True}\n",
      "EGR_VVT_SYSTEM_MONITORING {'name': 'EGR_VVT_SYSTEM_MONITORING', 'available': False, 'complete': True}\n",
      "NMHC_CATALYST_MONITORING {'name': '', 'available': False, 'complete': False}\n",
      "NOX_SCR_AFTERTREATMENT_MONITORING {'name': '', 'available': False, 'complete': False}\n",
      "BOOST_PRESSURE_MONITORING {'name': '', 'available': False, 'complete': False}\n",
      "EXHAUST_GAS_SENSOR_MONITORING {'name': '', 'available': False, 'complete': False}\n",
      "PM_FILTER_MONITORING {'name': '', 'available': False, 'complete': False}\n",
      "None {'name': None, 'available': False, 'complete': True}\n"
     ]
    }
   ],
   "source": [
    "for key, val in (v2.value).__dict__.items():\n",
    "    try:\n",
    "        print(key, val.__dict__)  # Access __dict__ if val is an object\n",
    "    except AttributeError:\n",
    "        print(key, val)  # Print normally if val has no __dict__\n"
   ]
  },
  {
   "cell_type": "code",
   "execution_count": 90,
   "metadata": {},
   "outputs": [
    {
     "data": {
      "text/plain": [
       "{'MIL': False,\n",
       " 'DTC_count': 0,\n",
       " 'ignition_type': 'spark',\n",
       " 'MISFIRE_MONITORING': <obd.OBDResponse.StatusTest at 0x208c1a73ad0>,\n",
       " 'FUEL_SYSTEM_MONITORING': <obd.OBDResponse.StatusTest at 0x208c1d95010>,\n",
       " 'COMPONENT_MONITORING': <obd.OBDResponse.StatusTest at 0x208c19efa90>,\n",
       " 'CATALYST_MONITORING': <obd.OBDResponse.StatusTest at 0x208c1dab110>,\n",
       " 'HEATED_CATALYST_MONITORING': <obd.OBDResponse.StatusTest at 0x208c1daa250>,\n",
       " 'EVAPORATIVE_SYSTEM_MONITORING': <obd.OBDResponse.StatusTest at 0x208c1da9310>,\n",
       " 'SECONDARY_AIR_SYSTEM_MONITORING': <obd.OBDResponse.StatusTest at 0x208c1da9290>,\n",
       " 'OXYGEN_SENSOR_MONITORING': <obd.OBDResponse.StatusTest at 0x208c1daa4d0>,\n",
       " 'OXYGEN_SENSOR_HEATER_MONITORING': <obd.OBDResponse.StatusTest at 0x208c1a72dd0>,\n",
       " 'EGR_VVT_SYSTEM_MONITORING': <obd.OBDResponse.StatusTest at 0x208c1a70c10>,\n",
       " 'NMHC_CATALYST_MONITORING': <obd.OBDResponse.StatusTest at 0x208c1d95e50>,\n",
       " 'NOX_SCR_AFTERTREATMENT_MONITORING': <obd.OBDResponse.StatusTest at 0x208c1d95e50>,\n",
       " 'BOOST_PRESSURE_MONITORING': <obd.OBDResponse.StatusTest at 0x208c1d95e50>,\n",
       " 'EXHAUST_GAS_SENSOR_MONITORING': <obd.OBDResponse.StatusTest at 0x208c1d95e50>,\n",
       " 'PM_FILTER_MONITORING': <obd.OBDResponse.StatusTest at 0x208c1d95e50>,\n",
       " None: <obd.OBDResponse.StatusTest at 0x208c1da95d0>}"
      ]
     },
     "execution_count": 90,
     "metadata": {},
     "output_type": "execute_result"
    }
   ],
   "source": [
    "((v2.value).__dict__)"
   ]
  },
  {
   "cell_type": "code",
   "execution_count": 93,
   "metadata": {},
   "outputs": [
    {
     "name": "stdout",
     "output_type": "stream",
     "text": [
      "+-----------------------------------+------------------------------------------------+\n",
      "| Attribute                         | Value                                          |\n",
      "+===================================+================================================+\n",
      "| MIL                               | False                                          |\n",
      "+-----------------------------------+------------------------------------------------+\n",
      "| DTC_count                         | 0                                              |\n",
      "+-----------------------------------+------------------------------------------------+\n",
      "| ignition_type                     | spark                                          |\n",
      "+-----------------------------------+------------------------------------------------+\n",
      "| MISFIRE_MONITORING                | {                                              |\n",
      "|                                   |     \"name\": \"MISFIRE_MONITORING\",              |\n",
      "|                                   |     \"available\": false,                        |\n",
      "|                                   |     \"complete\": true                           |\n",
      "|                                   | }                                              |\n",
      "+-----------------------------------+------------------------------------------------+\n",
      "| FUEL_SYSTEM_MONITORING            | {                                              |\n",
      "|                                   |     \"name\": \"FUEL_SYSTEM_MONITORING\",          |\n",
      "|                                   |     \"available\": false,                        |\n",
      "|                                   |     \"complete\": true                           |\n",
      "|                                   | }                                              |\n",
      "+-----------------------------------+------------------------------------------------+\n",
      "| COMPONENT_MONITORING              | {                                              |\n",
      "|                                   |     \"name\": \"COMPONENT_MONITORING\",            |\n",
      "|                                   |     \"available\": true,                         |\n",
      "|                                   |     \"complete\": true                           |\n",
      "|                                   | }                                              |\n",
      "+-----------------------------------+------------------------------------------------+\n",
      "| CATALYST_MONITORING               | {                                              |\n",
      "|                                   |     \"name\": \"CATALYST_MONITORING\",             |\n",
      "|                                   |     \"available\": false,                        |\n",
      "|                                   |     \"complete\": true                           |\n",
      "|                                   | }                                              |\n",
      "+-----------------------------------+------------------------------------------------+\n",
      "| HEATED_CATALYST_MONITORING        | {                                              |\n",
      "|                                   |     \"name\": \"HEATED_CATALYST_MONITORING\",      |\n",
      "|                                   |     \"available\": false,                        |\n",
      "|                                   |     \"complete\": true                           |\n",
      "|                                   | }                                              |\n",
      "+-----------------------------------+------------------------------------------------+\n",
      "| EVAPORATIVE_SYSTEM_MONITORING     | {                                              |\n",
      "|                                   |     \"name\": \"EVAPORATIVE_SYSTEM_MONITORING\",   |\n",
      "|                                   |     \"available\": false,                        |\n",
      "|                                   |     \"complete\": true                           |\n",
      "|                                   | }                                              |\n",
      "+-----------------------------------+------------------------------------------------+\n",
      "| SECONDARY_AIR_SYSTEM_MONITORING   | {                                              |\n",
      "|                                   |     \"name\": \"SECONDARY_AIR_SYSTEM_MONITORING\", |\n",
      "|                                   |     \"available\": false,                        |\n",
      "|                                   |     \"complete\": true                           |\n",
      "|                                   | }                                              |\n",
      "+-----------------------------------+------------------------------------------------+\n",
      "| OXYGEN_SENSOR_MONITORING          | {                                              |\n",
      "|                                   |     \"name\": \"OXYGEN_SENSOR_MONITORING\",        |\n",
      "|                                   |     \"available\": false,                        |\n",
      "|                                   |     \"complete\": true                           |\n",
      "|                                   | }                                              |\n",
      "+-----------------------------------+------------------------------------------------+\n",
      "| OXYGEN_SENSOR_HEATER_MONITORING   | {                                              |\n",
      "|                                   |     \"name\": \"OXYGEN_SENSOR_HEATER_MONITORING\", |\n",
      "|                                   |     \"available\": false,                        |\n",
      "|                                   |     \"complete\": true                           |\n",
      "|                                   | }                                              |\n",
      "+-----------------------------------+------------------------------------------------+\n",
      "| EGR_VVT_SYSTEM_MONITORING         | {                                              |\n",
      "|                                   |     \"name\": \"EGR_VVT_SYSTEM_MONITORING\",       |\n",
      "|                                   |     \"available\": false,                        |\n",
      "|                                   |     \"complete\": true                           |\n",
      "|                                   | }                                              |\n",
      "+-----------------------------------+------------------------------------------------+\n",
      "| NMHC_CATALYST_MONITORING          | {                                              |\n",
      "|                                   |     \"name\": \"\",                                |\n",
      "|                                   |     \"available\": false,                        |\n",
      "|                                   |     \"complete\": false                          |\n",
      "|                                   | }                                              |\n",
      "+-----------------------------------+------------------------------------------------+\n",
      "| NOX_SCR_AFTERTREATMENT_MONITORING | {                                              |\n",
      "|                                   |     \"name\": \"\",                                |\n",
      "|                                   |     \"available\": false,                        |\n",
      "|                                   |     \"complete\": false                          |\n",
      "|                                   | }                                              |\n",
      "+-----------------------------------+------------------------------------------------+\n",
      "| BOOST_PRESSURE_MONITORING         | {                                              |\n",
      "|                                   |     \"name\": \"\",                                |\n",
      "|                                   |     \"available\": false,                        |\n",
      "|                                   |     \"complete\": false                          |\n",
      "|                                   | }                                              |\n",
      "+-----------------------------------+------------------------------------------------+\n",
      "| EXHAUST_GAS_SENSOR_MONITORING     | {                                              |\n",
      "|                                   |     \"name\": \"\",                                |\n",
      "|                                   |     \"available\": false,                        |\n",
      "|                                   |     \"complete\": false                          |\n",
      "|                                   | }                                              |\n",
      "+-----------------------------------+------------------------------------------------+\n",
      "| PM_FILTER_MONITORING              | {                                              |\n",
      "|                                   |     \"name\": \"\",                                |\n",
      "|                                   |     \"available\": false,                        |\n",
      "|                                   |     \"complete\": false                          |\n",
      "|                                   | }                                              |\n",
      "+-----------------------------------+------------------------------------------------+\n",
      "|                                   | {                                              |\n",
      "|                                   |     \"name\": null,                              |\n",
      "|                                   |     \"available\": false,                        |\n",
      "|                                   |     \"complete\": true                           |\n",
      "|                                   | }                                              |\n",
      "+-----------------------------------+------------------------------------------------+\n"
     ]
    }
   ],
   "source": [
    "from tabulate import tabulate\n",
    "import json\n",
    "\n",
    "# Collecting data for tabulation\n",
    "table_data = []\n",
    "\n",
    "for key, val in (v2.value).__dict__.items():\n",
    "    try:\n",
    "        value_repr = json.dumps(val.__dict__, indent=4)  # Convert object attributes to JSON format\n",
    "    except AttributeError:\n",
    "        if isinstance(val, dict):\n",
    "            value_repr = json.dumps(val, indent=4)  # Pretty-print dictionaries\n",
    "        else:\n",
    "            value_repr = str(val)  # Convert other values to string\n",
    "    \n",
    "    table_data.append([key, value_repr])  # Append key-value pair\n",
    "\n",
    "# Print the table\n",
    "print(tabulate(table_data, headers=[\"Attribute\", \"Value\"], tablefmt=\"grid\"))\n"
   ]
  },
  {
   "cell_type": "code",
   "execution_count": 104,
   "metadata": {},
   "outputs": [
    {
     "name": "stdout",
     "output_type": "stream",
     "text": [
      "+-----------------------------------+-------------------------------------------------------------+-------------+------------+\n",
      "| Attribute                         | Value                                                       | Available   | Complete   |\n",
      "+===================================+=============================================================+=============+============+\n",
      "| MIL                               | False                                                       | N/A         | N/A        |\n",
      "+-----------------------------------+-------------------------------------------------------------+-------------+------------+\n",
      "| DTC_count                         | 0                                                           | N/A         | N/A        |\n",
      "+-----------------------------------+-------------------------------------------------------------+-------------+------------+\n",
      "| ignition_type                     | spark                                                       | N/A         | N/A        |\n",
      "+-----------------------------------+-------------------------------------------------------------+-------------+------------+\n",
      "| MISFIRE_MONITORING                | Test MISFIRE_MONITORING: Unavailable, Complete              | N/A         | N/A        |\n",
      "+-----------------------------------+-------------------------------------------------------------+-------------+------------+\n",
      "| FUEL_SYSTEM_MONITORING            | Test FUEL_SYSTEM_MONITORING: Unavailable, Complete          | N/A         | N/A        |\n",
      "+-----------------------------------+-------------------------------------------------------------+-------------+------------+\n",
      "| COMPONENT_MONITORING              | Test COMPONENT_MONITORING: Available, Complete              | N/A         | N/A        |\n",
      "+-----------------------------------+-------------------------------------------------------------+-------------+------------+\n",
      "| CATALYST_MONITORING               | Test CATALYST_MONITORING: Unavailable, Complete             | N/A         | N/A        |\n",
      "+-----------------------------------+-------------------------------------------------------------+-------------+------------+\n",
      "| HEATED_CATALYST_MONITORING        | Test HEATED_CATALYST_MONITORING: Unavailable, Complete      | N/A         | N/A        |\n",
      "+-----------------------------------+-------------------------------------------------------------+-------------+------------+\n",
      "| EVAPORATIVE_SYSTEM_MONITORING     | Test EVAPORATIVE_SYSTEM_MONITORING: Unavailable, Complete   | N/A         | N/A        |\n",
      "+-----------------------------------+-------------------------------------------------------------+-------------+------------+\n",
      "| SECONDARY_AIR_SYSTEM_MONITORING   | Test SECONDARY_AIR_SYSTEM_MONITORING: Unavailable, Complete | N/A         | N/A        |\n",
      "+-----------------------------------+-------------------------------------------------------------+-------------+------------+\n",
      "| OXYGEN_SENSOR_MONITORING          | Test OXYGEN_SENSOR_MONITORING: Unavailable, Complete        | N/A         | N/A        |\n",
      "+-----------------------------------+-------------------------------------------------------------+-------------+------------+\n",
      "| OXYGEN_SENSOR_HEATER_MONITORING   | Test OXYGEN_SENSOR_HEATER_MONITORING: Unavailable, Complete | N/A         | N/A        |\n",
      "+-----------------------------------+-------------------------------------------------------------+-------------+------------+\n",
      "| EGR_VVT_SYSTEM_MONITORING         | Test EGR_VVT_SYSTEM_MONITORING: Unavailable, Complete       | N/A         | N/A        |\n",
      "+-----------------------------------+-------------------------------------------------------------+-------------+------------+\n",
      "| NMHC_CATALYST_MONITORING          | Test : Unavailable, Incomplete                              | N/A         | N/A        |\n",
      "+-----------------------------------+-------------------------------------------------------------+-------------+------------+\n",
      "| NOX_SCR_AFTERTREATMENT_MONITORING | Test : Unavailable, Incomplete                              | N/A         | N/A        |\n",
      "+-----------------------------------+-------------------------------------------------------------+-------------+------------+\n",
      "| BOOST_PRESSURE_MONITORING         | Test : Unavailable, Incomplete                              | N/A         | N/A        |\n",
      "+-----------------------------------+-------------------------------------------------------------+-------------+------------+\n",
      "| EXHAUST_GAS_SENSOR_MONITORING     | Test : Unavailable, Incomplete                              | N/A         | N/A        |\n",
      "+-----------------------------------+-------------------------------------------------------------+-------------+------------+\n",
      "| PM_FILTER_MONITORING              | Test : Unavailable, Incomplete                              | N/A         | N/A        |\n",
      "+-----------------------------------+-------------------------------------------------------------+-------------+------------+\n",
      "|                                   | Test None: Unavailable, Complete                            | N/A         | N/A        |\n",
      "+-----------------------------------+-------------------------------------------------------------+-------------+------------+\n"
     ]
    }
   ],
   "source": [
    "from tabulate import tabulate\n",
    "\n",
    "# Collecting data for tabulation\n",
    "table_data = []\n",
    "headers = [\"Attribute\", \"Value\", \"Available\", \"Complete\"]  # Define column headers\n",
    "\n",
    "for key, val in (v2.value).__dict__.items():\n",
    "    if isinstance(val, dict):  # If the value is a dictionary, extract fields\n",
    "        name = val.get(\"name\", \"N/A\")  # Get 'name' field or N/A\n",
    "        available = val.get(\"available\", \"N/A\")  # Get 'available' field or N/A\n",
    "        complete = val.get(\"complete\", \"N/A\")  # Get 'complete' field or N/A\n",
    "    else:\n",
    "        name = val\n",
    "        available = \"N/A\"\n",
    "        complete = \"N/A\"\n",
    "    \n",
    "    table_data.append([key, name, available, complete])  # Append row data\n",
    "\n",
    "# Print the formatted table\n",
    "print(tabulate(table_data, headers=headers, tablefmt=\"grid\"))\n",
    "\n"
   ]
  },
  {
   "cell_type": "code",
   "execution_count": 118,
   "metadata": {},
   "outputs": [
    {
     "name": "stdout",
     "output_type": "stream",
     "text": [
      "1. b'0228': DTC 02 Sensor 5 WR Lambda Voltage\n",
      "2. b'0215': DTC O2: Bank 1 - Sensor 2 Voltage\n",
      "3. b'0100': Supported PIDs [01-20]\n",
      "4. b'010E': Timing Advance\n",
      "5. b'014E': Time since trouble codes cleared\n",
      "6. b'0145': Relative throttle position\n",
      "7. b'022E': DTC Commanded Evaporative Purge\n",
      "8. b'0211': DTC Throttle Position\n",
      "9. b'013F': Catalyst Temperature: Bank 2 - Sensor 2\n",
      "10. b'0140': Supported PIDs [41-60]\n",
      "11. b'023F': DTC Catalyst Temperature: Bank 2 - Sensor 2\n",
      "12. b'0105': Engine Coolant Temperature\n",
      "13. b'014D': Time run with MIL on\n",
      "14. b'013E': Catalyst Temperature: Bank 1 - Sensor 2\n",
      "15. b'0249': DTC Accelerator pedal position D\n",
      "16. b'0902': Vehicle Identification Number\n",
      "17. b'010D': Vehicle Speed\n",
      "18. b'010C': Engine RPM\n",
      "19. b'0109': Long Term Fuel Trim - Bank 2\n",
      "20. b'021F': DTC Engine Run Time\n",
      "21. b'013C': Catalyst Temperature: Bank 1 - Sensor 1\n",
      "22. b'ATRV': Voltage detected by OBD-II adapter\n",
      "23. b'023D': DTC Catalyst Temperature: Bank 2 - Sensor 1\n",
      "24. b'0210': DTC Air Flow Rate (MAF)\n",
      "25. b'020E': DTC Timing Advance\n",
      "26. b'ATI': ELM327 version string\n",
      "27. b'011F': Engine Run Time\n",
      "28. b'0233': DTC Barometric Pressure\n",
      "29. b'0101': Status since DTCs cleared\n",
      "30. b'0221': DTC Distance Traveled with MIL on\n",
      "31. b'0243': DTC Absolute load value\n",
      "32. b'023E': DTC Catalyst Temperature: Bank 1 - Sensor 2\n",
      "33. b'0247': DTC Absolute throttle position B\n",
      "34. b'06A0': Supported MIDs [A1-C0]\n",
      "35. b'06A7': Misfire Cylinder 6 Data\n",
      "36. b'06A9': Misfire Cylinder 8 Data\n",
      "37. b'024C': DTC Commanded throttle actuator\n",
      "38. b'0234': DTC 02 Sensor 1 WR Lambda Current\n",
      "39. b'06A1': Misfire Monitor General Data\n",
      "40. b'0906': Calibration Verification Numbers\n",
      "41. b'0601': O2 Sensor Monitor Bank 1 - Sensor 1\n",
      "42. b'011C': OBD Standards Compliance\n",
      "43. b'0224': DTC 02 Sensor 1 WR Lambda Voltage\n",
      "44. b'0142': Control module voltage\n",
      "45. b'0120': Supported PIDs [21-40]\n",
      "46. b'020F': DTC Intake Air Temp\n",
      "47. b'0621': Catalyst Monitor Bank 1\n",
      "48. b'0600': Supported MIDs [01-20]\n",
      "49. b'04': Clear DTCs and Freeze data\n",
      "50. b'06A4': Misfire Cylinder 3 Data\n",
      "51. b'0115': O2: Bank 1 - Sensor 2 Voltage\n",
      "52. b'0242': DTC Control module voltage\n",
      "53. b'0151': Fuel Type\n",
      "54. b'0620': Supported MIDs [21-40]\n",
      "55. b'0128': 02 Sensor 5 WR Lambda Voltage\n",
      "56. b'014A': Accelerator pedal position E\n",
      "57. b'0147': Absolute throttle position B\n",
      "58. b'0602': O2 Sensor Monitor Bank 1 - Sensor 2\n",
      "59. b'0205': DTC Engine Coolant Temperature\n",
      "60. b'0245': DTC Relative throttle position\n",
      "61. b'0207': DTC Long Term Fuel Trim - Bank 1\n",
      "62. b'0251': DTC Fuel Type\n",
      "63. b'06A3': Misfire Cylinder 2 Data\n",
      "64. b'0206': DTC Short Term Fuel Trim - Bank 1\n",
      "65. b'0110': Air Flow Rate (MAF)\n",
      "66. b'0113': O2 Sensors Present\n",
      "67. b'0219': DTC O2: Bank 2 - Sensor 2 Voltage\n",
      "68. b'07': Get DTCs from the current/last driving cycle\n",
      "69. b'0149': Accelerator pedal position D\n",
      "70. b'0230': DTC Number of warm-ups since codes cleared\n",
      "71. b'0240': DTC Supported PIDs [41-60]\n",
      "72. b'0203': DTC Fuel System Status\n",
      "73. b'021C': DTC OBD Standards Compliance\n",
      "74. b'0107': Long Term Fuel Trim - Bank 1\n",
      "75. b'0220': DTC Supported PIDs [21-40]\n",
      "76. b'0204': DTC Calculated Engine Load\n",
      "77. b'0111': Throttle Position\n",
      "78. b'06A5': Misfire Cylinder 4 Data\n",
      "79. b'06A8': Misfire Cylinder 7 Data\n",
      "80. b'0900': Supported PIDs [01-20]\n",
      "81. b'0231': DTC Distance traveled since codes cleared\n",
      "82. b'0606': O2 Sensor Monitor Bank 2 - Sensor 2\n",
      "83. b'010F': Intake Air Temp\n",
      "84. b'0144': Commanded equivalence ratio\n",
      "85. b'06A2': Misfire Cylinder 1 Data\n",
      "86. b'012E': Commanded Evaporative Purge\n",
      "87. b'0124': 02 Sensor 1 WR Lambda Voltage\n",
      "88. b'0133': Barometric Pressure\n",
      "89. b'0640': Supported MIDs [41-60]\n",
      "90. b'0660': Supported MIDs [61-80]\n",
      "91. b'0134': 02 Sensor 1 WR Lambda Current\n",
      "92. b'0119': O2: Bank 2 - Sensor 2 Voltage\n",
      "93. b'024D': DTC Time run with MIL on\n",
      "94. b'020D': DTC Vehicle Speed\n",
      "95. b'0680': Supported MIDs [81-A0]\n",
      "96. b'06A6': Misfire Cylinder 5 Data\n",
      "97. b'0104': Calculated Engine Load\n",
      "98. b'020C': DTC Engine RPM\n",
      "99. b'0605': O2 Sensor Monitor Bank 2 - Sensor 1\n",
      "100. b'0238': DTC 02 Sensor 5 WR Lambda Current\n",
      "101. b'0108': Short Term Fuel Trim - Bank 2\n",
      "102. b'0904': Calibration ID\n",
      "103. b'03': Get DTCs\n",
      "104. b'0131': Distance traveled since codes cleared\n",
      "105. b'024E': DTC Time since trouble codes cleared\n",
      "106. b'0130': Number of warm-ups since codes cleared\n",
      "107. b'0138': 02 Sensor 5 WR Lambda Current\n",
      "108. b'0208': DTC Short Term Fuel Trim - Bank 2\n",
      "109. b'0121': Distance Traveled with MIL on\n",
      "110. b'0244': DTC Commanded equivalence ratio\n",
      "111. b'0213': DTC O2 Sensors Present\n",
      "112. b'0201': DTC Status since DTCs cleared\n",
      "113. b'0622': Catalyst Monitor Bank 2\n",
      "114. b'014C': Commanded throttle actuator\n",
      "115. b'0209': DTC Long Term Fuel Trim - Bank 2\n",
      "116. b'024A': DTC Accelerator pedal position E\n",
      "117. b'0106': Short Term Fuel Trim - Bank 1\n",
      "118. b'0103': Fuel System Status\n",
      "119. b'023C': DTC Catalyst Temperature: Bank 1 - Sensor 1\n",
      "120. b'0143': Absolute load value\n",
      "121. b'013D': Catalyst Temperature: Bank 2 - Sensor 1\n"
     ]
    }
   ],
   "source": [
    "for i, cmd in enumerate(conn.supported_commands, 1):\n",
    "    print(f\"{i}. {cmd}\")\n"
   ]
  },
  {
   "cell_type": "code",
   "execution_count": 119,
   "metadata": {},
   "outputs": [
    {
     "data": {
      "text/plain": [
       "'Gasoline'"
      ]
     },
     "execution_count": 119,
     "metadata": {},
     "output_type": "execute_result"
    }
   ],
   "source": [
    "fuel_type=conn.query(obd.commands.FUEL_TYPE)\n",
    "fuel_type.value"
   ]
  }
 ],
 "metadata": {
  "kernelspec": {
   "display_name": "Python 3",
   "language": "python",
   "name": "python3"
  },
  "language_info": {
   "codemirror_mode": {
    "name": "ipython",
    "version": 3
   },
   "file_extension": ".py",
   "mimetype": "text/x-python",
   "name": "python",
   "nbconvert_exporter": "python",
   "pygments_lexer": "ipython3",
   "version": "3.11.3"
  }
 },
 "nbformat": 4,
 "nbformat_minor": 2
}
